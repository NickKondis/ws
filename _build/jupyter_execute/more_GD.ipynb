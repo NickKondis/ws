{
 "cells": [
  {
   "cell_type": "markdown",
   "id": "d49e8bd1-7598-4fe1-8e01-e922a296fd0d",
   "metadata": {},
   "source": [
    "# More On Geometric Distribution\n",
    "## Let's Take A Deeper Dive Into Geometric Distribution"
   ]
  },
  {
   "cell_type": "markdown",
   "id": "9ac12010-4294-4541-88ed-91f336156b63",
   "metadata": {},
   "source": [
    "To better understand what [](section-label2) looks like, let's visualize what the distribution actually looks like. Here is an example:"
   ]
  },
  {
   "cell_type": "markdown",
   "id": "6d888851-65bb-4be9-9926-de02149c1539",
   "metadata": {},
   "source": [
    "In a certain coin game, a fair coin is flipped so that there is a 50% chance of getting heads and a 50% chance of getting tails.  In order to win this game, you must get a 'heads'.  Let's visualize what this probability distribution would be of winning this game for a given number of tosses.  The number of unsuccessful throws can be modeled using a [](section-label2) distribution."
   ]
  },
  {
   "cell_type": "markdown",
   "id": "59e1993a-904a-43f6-baf0-060c9d507632",
   "metadata": {
    "tags": [
     "hide-input"
    ]
   },
   "source": [
    "You need to import the appropriate libraries to run the code below.\n",
    "\n",
    "```python\n",
    "import numpy as np\n",
    "import matplotlib.pyplot as plt\n",
    "```"
   ]
  },
  {
   "cell_type": "code",
   "execution_count": 1,
   "id": "b7193967-b926-4d2a-b48d-985ebba53443",
   "metadata": {
    "tags": [
     "hide-input"
    ]
   },
   "outputs": [],
   "source": [
    "# Importing the necessary libraries\n",
    "import numpy as np\n",
    "import matplotlib.pyplot as plt"
   ]
  },
  {
   "cell_type": "markdown",
   "id": "8d5abd7b-4e4f-4b88-b941-5d5e1a7a4378",
   "metadata": {},
   "source": [
    "### Visualizing the Geometric Distribution"
   ]
  },
  {
   "cell_type": "markdown",
   "id": "1c652e3d-5084-4b00-9665-5d6a762c3ff0",
   "metadata": {},
   "source": [
    "We will begin by creating a randomized array to run the code below.  This can be done by the following code:\n",
    "\n",
    "```python\n",
    "sample = np.random.geometric(0.5, 1000)\n",
    "bin = np.arange(0,20,1)\n",
    "```"
   ]
  },
  {
   "cell_type": "markdown",
   "id": "329da128-6483-4859-bda8-1fd9dd0b0552",
   "metadata": {},
   "source": []
  },
  {
   "cell_type": "code",
   "execution_count": 2,
   "id": "f7fa7e78-4191-4b53-ab7a-a7b8e6b833f5",
   "metadata": {
    "tags": [
     "hide-input"
    ]
   },
   "outputs": [
    {
     "data": {
      "image/png": "[encoded data removed]",
      "text/plain": [
       "<Figure size 432x288 with 1 Axes>"
      ]
     },
     "metadata": {
      "filenames": {
       "image/png": "C:\\Users\\nickk\\ws\\_build\\jupyter_execute\\more_GD_8_0.png"
      },
      "needs_background": "light"
     },
     "output_type": "display_data"
    }
   ],
   "source": [
    "sample = np.random.geometric(0.5, 1000)\n",
    "bin = np.arange(0,20,1)\n",
    "\n",
    "plt.hist(sample, bins=bin, edgecolor='blue') \n",
    "plt.title(\"Geometric Distribution\") \n",
    "plt.ylabel(\"Probability\", fontsize=\"15\")\n",
    "plt.xlabel(\"Number of Tosses\", fontsize=\"15\")\n",
    "plt.show()\n",
    "\n",
    "\n"
   ]
  },
  {
   "cell_type": "markdown",
   "id": "7b9b6529-67b4-4cd9-9b60-799bc3d080b0",
   "metadata": {},
   "source": [
    "Let's try another one..."
   ]
  },
  {
   "cell_type": "markdown",
   "id": "41acc2fa-c320-4ccd-a6f4-5355005c0f97",
   "metadata": {},
   "source": [
    "In another game, cards are chosen at random (with replacement) from a full deck of 52 cards. The object of the game is to get a \"clubs\" suited card.  Let's visualize what this probability distribution would be of winning this game for a given number of drawn cards. The number of the winning draw can be modeled with [](section-label2).  As a reminder, the probability of drawing a clubs-suited card is 0.25 (13/52)."
   ]
  },
  {
   "cell_type": "code",
   "execution_count": 3,
   "id": "e32abb4e-225f-411e-a800-ad93639d8b8c",
   "metadata": {
    "tags": [
     "hide-input"
    ]
   },
   "outputs": [
    {
     "data": {
      "image/png": "[encoded data removed]",
      "text/plain": [
       "<Figure size 432x288 with 1 Axes>"
      ]
     },
     "metadata": {
      "filenames": {
       "image/png": "C:\\Users\\nickk\\ws\\_build\\jupyter_execute\\more_GD_11_0.png"
      },
      "needs_background": "light"
     },
     "output_type": "display_data"
    }
   ],
   "source": [
    "sample2 = np.random.geometric(0.25, 1000)\n",
    "bin = np.arange(0,20,1)\n",
    "\n",
    "plt.hist(sample2, bins=bin, edgecolor='green') \n",
    "plt.title(\"Geometric Distribution\") \n",
    "plt.ylabel(\"Probability\", fontsize=\"15\")\n",
    "plt.xlabel(\"Number of Draws\", fontsize=\"15\")\n",
    "plt.show()\n"
   ]
  },
  {
   "cell_type": "code",
   "execution_count": null,
   "id": "f17eaf7d-b86d-4249-a700-eb2e5550b316",
   "metadata": {},
   "outputs": [],
   "source": []
  },
  {
   "cell_type": "code",
   "execution_count": null,
   "id": "edc3de92-8afd-43fb-89c3-8daf8d60dba0",
   "metadata": {},
   "outputs": [],
   "source": []
  },
  {
   "cell_type": "markdown",
   "id": "753a152b-6e6b-45d1-90ba-3e506fe4f595",
   "metadata": {},
   "source": [
    "[](section-label2)"
   ]
  }
 ],
 "metadata": {
  "kernelspec": {
   "display_name": "Python 3 (ipykernel)",
   "language": "python",
   "name": "python3"
  },
  "language_info": {
   "codemirror_mode": {
    "name": "ipython",
    "version": 3
   },
   "file_extension": ".py",
   "mimetype": "text/x-python",
   "name": "python",
   "nbconvert_exporter": "python",
   "pygments_lexer": "ipython3",
   "version": "3.9.12"
  }
 },
 "nbformat": 4,
 "nbformat_minor": 5
}