{
 "cells": [
  {
   "cell_type": "markdown",
   "id": "bca18d84-7e11-43ed-9cd8-3337e922a690",
   "metadata": {},
   "source": [
    "# More Geometric Distribution"
   ]
  },
  {
   "cell_type": "markdown",
   "id": "d49e8bd1-7598-4fe1-8e01-e922a296fd0d",
   "metadata": {},
   "source": [
    "# More On Geometric Distribution\n",
    "## Let's Take A Deeper Dive Into Geometric Distribution"
   ]
  },
  {
   "cell_type": "markdown",
   "id": "9ac12010-4294-4541-88ed-91f336156b63",
   "metadata": {},
   "source": [
    "To better understand what Geometric Distribution looks like, let's visualize what the distribution actually looks like. Here is an example:"
   ]
  },
  {
   "cell_type": "markdown",
   "id": "6d888851-65bb-4be9-9926-de02149c1539",
   "metadata": {},
   "source": [
    "In a certain coin game, a fair coin is flipped so that there is a 50% chance of getting heads and a 50% chance of getting tails.  In order to win this game, you must get a 'heads'.  Let's visualize what this probability distribution would be of winning this game for a given number of tosses.  The number of unsuccessful throws can be modeled using a [](section-label2) distribution."
   ]
  },
  {
   "cell_type": "code",
   "execution_count": 1,
   "id": "b7193967-b926-4d2a-b48d-985ebba53443",
   "metadata": {},
   "outputs": [],
   "source": [
    "# Importing the necessary libraries\n",
    "import numpy as np\n",
    "import matplotlib.pyplot as plt"
   ]
  },
  {
   "cell_type": "code",
   "execution_count": 2,
   "id": "f7fa7e78-4191-4b53-ab7a-a7b8e6b833f5",
   "metadata": {},
   "outputs": [
    {
     "data": {
      "image/png": "[encoded data removed]",
      "text/plain": [
       "<Figure size 432x288 with 1 Axes>"
      ]
     },
     "metadata": {
      "needs_background": "light"
     },
     "output_type": "display_data"
    }
   ],
   "source": [
    "sample = np.random.geometric(0.5, 1000)\n",
    "bin = np.arange(0,20,1)\n",
    "\n",
    "\n",
    "\n",
    "sample = np.random.geometric(0.5, 1000)\n",
    "bin = np.arange(0,20,1)\n",
    "\n",
    "plt.hist(sample, bins=bin, edgecolor='blue') \n",
    "plt.title(\"Geometric Distribution\") \n",
    "plt.ylabel(\"Probability\", fontsize=\"15\")\n",
    "plt.xlabel(\"Number of Tosses\", fontsize=\"15\")\n",
    "plt.show()\n",
    "\n",
    "\n"
   ]
  },
  {
   "cell_type": "code",
   "execution_count": null,
   "id": "f3400eb0-2ff5-49f6-8f00-b98443c950f4",
   "metadata": {},
   "outputs": [],
   "source": []
  },
  {
   "cell_type": "code",
   "execution_count": null,
   "id": "0a0c5ac7-7692-485f-8c89-5739954e9506",
   "metadata": {},
   "outputs": [],
   "source": []
  },
  {
   "cell_type": "markdown",
   "id": "753a152b-6e6b-45d1-90ba-3e506fe4f595",
   "metadata": {},
   "source": [
    "[](section-label2)"
   ]
  }
 ],
 "metadata": {
  "kernelspec": {
   "display_name": "Python 3 (ipykernel)",
   "language": "python",
   "name": "python3"
  },
  "language_info": {
   "codemirror_mode": {
    "name": "ipython",
    "version": 3
   },
   "file_extension": ".py",
   "mimetype": "text/x-python",
   "name": "python",
   "nbconvert_exporter": "python",
   "pygments_lexer": "ipython3",
   "version": "3.9.12"
  }
 },
 "nbformat": 4,
 "nbformat_minor": 5
}
