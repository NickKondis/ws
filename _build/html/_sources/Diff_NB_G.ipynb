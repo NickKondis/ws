{
 "cells": [
  {
   "cell_type": "markdown",
   "id": "003b4fd7-49c0-4485-8549-f06f217c3772",
   "metadata": {},
   "source": [
    "# Examining The Differences\n",
    "## Let's Have A Look"
   ]
  },
  {
   "cell_type": "markdown",
   "id": "5554573d-115e-4301-abc4-8344369e93ab",
   "metadata": {},
   "source": [
    "As we have seen, a [](section-label) is used to determine the probability of a defined number of successes in repeated trials.  Examples of this were shown in PROBLEM1 and PROBLEM2 in the in depth analysis of [](section-label). The characteristic features of this were both repeated trials and defined number of successes.\n",
    "\n",
    "Characteristics\n",
    "defined, independent probability\n",
    "binary values\n",
    "repeated trials\n",
    "defined number of necessary successes\n",
    "\n",
    "In [](section-label2), there are also repeated trials.  However, [](section-label2) is deifined as needing only a single success.\n",
    "\n",
    "Characteristics\n",
    "defined, independent probability\n",
    "binary values\n",
    "repeated trials\n",
    "single necessary success\n",
    "\n",
    "\n"
   ]
  },
  {
   "cell_type": "markdown",
   "id": "98d4b359-102b-4143-adf5-ae1f27b7021c",
   "metadata": {},
   "source": [
    "Even though,[](section-label) and [](section-label2) are distinct probabilities, [](section-label2) can be considered a subset of [](section-label) where the defined number of successes is exactly one.\n",
    "\n"
   ]
  },
  {
   "cell_type": "markdown",
   "id": "193b8aab-09c0-4e56-82a0-ec6f01b62f24",
   "metadata": {},
   "source": [
    "Let's take a look at some examples...."
   ]
  },
  {
   "cell_type": "code",
   "execution_count": 1,
   "id": "41990408-7630-4798-9a86-ffa143cac9dd",
   "metadata": {},
   "outputs": [],
   "source": [
    "# Importing the necessary libraries.\n",
    "import numpy as np\n",
    "from scipy.stats import nbinom\n",
    "import numpy as np"
   ]
  },
  {
   "cell_type": "markdown",
   "id": "20936cfd-5b8c-4b3e-8b81-be2beeb08c9f",
   "metadata": {},
   "source": [
    "What is the probability of getting 4 heads by flipping a coin 5 times?\n",
    "\n"
   ]
  },
  {
   "cell_type": "code",
   "execution_count": 2,
   "id": "966ce4f9-5b88-4dca-b26f-6a8fff9ca80b",
   "metadata": {},
   "outputs": [
    {
     "name": "stdout",
     "output_type": "stream",
     "text": [
      "Because this requires multiple successes, it is a Negative Binomial.\n"
     ]
    }
   ],
   "source": [
    "print(\"Because this requires multiple successes, it is a Negative Binomial.\")"
   ]
  },
  {
   "cell_type": "code",
   "execution_count": 3,
   "id": "ca381b0f-1e29-4632-9fb8-d0d2ccb0adf1",
   "metadata": {},
   "outputs": [
    {
     "data": {
      "text/plain": [
       "0.10937499999999996"
      ]
     },
     "execution_count": 3,
     "metadata": {},
     "output_type": "execute_result"
    }
   ],
   "source": [
    "nbinom.pmf(5, 4, 0.5)"
   ]
  },
  {
   "cell_type": "markdown",
   "id": "5d0a3c9d-1036-4a66-97e7-fe772437e016",
   "metadata": {},
   "source": [
    "What is the likelihood of dealt 4 clubs in a 5 card poker hand?\n"
   ]
  },
  {
   "cell_type": "code",
   "execution_count": 4,
   "id": "fab44332-c7da-498d-8172-45e627d5f581",
   "metadata": {
    "tags": []
   },
   "outputs": [
    {
     "name": "stdout",
     "output_type": "stream",
     "text": [
      "Because the probability of getting a club is effected by each removed card, this is neither Negative Binomial or Geometric.\n",
      "Code is not applicable\n"
     ]
    }
   ],
   "source": [
    "print(\"Because the probability of getting a club is effected by each removed card, this is neither Negative Binomial or Geometric.\")\n",
    "print(\"Code is not applicable\")"
   ]
  },
  {
   "cell_type": "markdown",
   "id": "d230b04a-e307-4ecc-916e-30dfd1b8df99",
   "metadata": {},
   "source": [
    "What is the probability of getting a 6 by rolling 3 dice simultaneously?\n"
   ]
  },
  {
   "cell_type": "code",
   "execution_count": 5,
   "id": "84adfcb8-92fa-4e30-8aa8-a55e490dde7c",
   "metadata": {},
   "outputs": [
    {
     "name": "stdout",
     "output_type": "stream",
     "text": [
      "This is a Geometric probability\n",
      "The answer is 0.984375\n"
     ]
    }
   ],
   "source": [
    "print(\"This is a Geometric probability\")\n",
    "answer = 1-(1-0.5)**6\n",
    "print(\"The answer is \" + str(answer))"
   ]
  },
  {
   "cell_type": "markdown",
   "id": "857a3cf3-f16a-4bf7-b5b8-f565351e6bc2",
   "metadata": {},
   "source": [
    "Great job, that's the end of the lesson."
   ]
  }
 ],
 "metadata": {
  "kernelspec": {
   "display_name": "Python 3 (ipykernel)",
   "language": "python",
   "name": "python3"
  },
  "language_info": {
   "codemirror_mode": {
    "name": "ipython",
    "version": 3
   },
   "file_extension": ".py",
   "mimetype": "text/x-python",
   "name": "python",
   "nbconvert_exporter": "python",
   "pygments_lexer": "ipython3",
   "version": "3.9.12"
  }
 },
 "nbformat": 4,
 "nbformat_minor": 5
}
