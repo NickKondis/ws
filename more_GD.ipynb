{
 "cells": [
  {
   "cell_type": "markdown",
   "id": "bca18d84-7e11-43ed-9cd8-3337e922a690",
   "metadata": {},
   "source": [
    "# More Geometric Distribution"
   ]
  },
  {
   "cell_type": "code",
   "execution_count": null,
   "id": "a13be425-e643-4adf-b686-77ee50a6d77b",
   "metadata": {},
   "outputs": [],
   "source": []
  }
 ],
 "metadata": {
  "kernelspec": {
   "display_name": "Python 3 (ipykernel)",
   "language": "python",
   "name": "python3"
  },
  "language_info": {
   "codemirror_mode": {
    "name": "ipython",
    "version": 3
   },
   "file_extension": ".py",
   "mimetype": "text/x-python",
   "name": "python",
   "nbconvert_exporter": "python",
   "pygments_lexer": "ipython3",
   "version": "3.9.12"
  }
 },
 "nbformat": 4,
 "nbformat_minor": 5
}
